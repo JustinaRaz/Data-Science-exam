{
 "cells": [
  {
   "cell_type": "markdown",
   "metadata": {},
   "source": [
    "# Cleaning the dataset"
   ]
  },
  {
   "cell_type": "code",
   "execution_count": 149,
   "metadata": {},
   "outputs": [
    {
     "name": "stdout",
     "output_type": "stream",
     "text": [
      "Requirement already satisfied: pandas in /Library/Frameworks/Python.framework/Versions/3.13/lib/python3.13/site-packages (2.2.3)\n",
      "Requirement already satisfied: numpy>=1.26.0 in /Library/Frameworks/Python.framework/Versions/3.13/lib/python3.13/site-packages (from pandas) (2.2.5)\n",
      "Requirement already satisfied: python-dateutil>=2.8.2 in /Users/justina/Library/Python/3.13/lib/python/site-packages (from pandas) (2.9.0.post0)\n",
      "Requirement already satisfied: pytz>=2020.1 in /Library/Frameworks/Python.framework/Versions/3.13/lib/python3.13/site-packages (from pandas) (2025.2)\n",
      "Requirement already satisfied: tzdata>=2022.7 in /Library/Frameworks/Python.framework/Versions/3.13/lib/python3.13/site-packages (from pandas) (2025.2)\n",
      "Requirement already satisfied: six>=1.5 in /Users/justina/Library/Python/3.13/lib/python/site-packages (from python-dateutil>=2.8.2->pandas) (1.17.0)\n",
      "\n",
      "\u001b[1m[\u001b[0m\u001b[34;49mnotice\u001b[0m\u001b[1;39;49m]\u001b[0m\u001b[39;49m A new release of pip is available: \u001b[0m\u001b[31;49m25.0.1\u001b[0m\u001b[39;49m -> \u001b[0m\u001b[32;49m25.1.1\u001b[0m\n",
      "\u001b[1m[\u001b[0m\u001b[34;49mnotice\u001b[0m\u001b[1;39;49m]\u001b[0m\u001b[39;49m To update, run: \u001b[0m\u001b[32;49mpip3 install --upgrade pip\u001b[0m\n",
      "Requirement already satisfied: matplotlib in /Library/Frameworks/Python.framework/Versions/3.13/lib/python3.13/site-packages (3.10.3)\n",
      "Requirement already satisfied: contourpy>=1.0.1 in /Library/Frameworks/Python.framework/Versions/3.13/lib/python3.13/site-packages (from matplotlib) (1.3.2)\n",
      "Requirement already satisfied: cycler>=0.10 in /Library/Frameworks/Python.framework/Versions/3.13/lib/python3.13/site-packages (from matplotlib) (0.12.1)\n",
      "Requirement already satisfied: fonttools>=4.22.0 in /Library/Frameworks/Python.framework/Versions/3.13/lib/python3.13/site-packages (from matplotlib) (4.58.0)\n",
      "Requirement already satisfied: kiwisolver>=1.3.1 in /Library/Frameworks/Python.framework/Versions/3.13/lib/python3.13/site-packages (from matplotlib) (1.4.8)\n",
      "Requirement already satisfied: numpy>=1.23 in /Library/Frameworks/Python.framework/Versions/3.13/lib/python3.13/site-packages (from matplotlib) (2.2.5)\n",
      "Requirement already satisfied: packaging>=20.0 in /Users/justina/Library/Python/3.13/lib/python/site-packages (from matplotlib) (25.0)\n",
      "Requirement already satisfied: pillow>=8 in /Library/Frameworks/Python.framework/Versions/3.13/lib/python3.13/site-packages (from matplotlib) (11.2.1)\n",
      "Requirement already satisfied: pyparsing>=2.3.1 in /Library/Frameworks/Python.framework/Versions/3.13/lib/python3.13/site-packages (from matplotlib) (3.2.3)\n",
      "Requirement already satisfied: python-dateutil>=2.7 in /Users/justina/Library/Python/3.13/lib/python/site-packages (from matplotlib) (2.9.0.post0)\n",
      "Requirement already satisfied: six>=1.5 in /Users/justina/Library/Python/3.13/lib/python/site-packages (from python-dateutil>=2.7->matplotlib) (1.17.0)\n",
      "\n",
      "\u001b[1m[\u001b[0m\u001b[34;49mnotice\u001b[0m\u001b[1;39;49m]\u001b[0m\u001b[39;49m A new release of pip is available: \u001b[0m\u001b[31;49m25.0.1\u001b[0m\u001b[39;49m -> \u001b[0m\u001b[32;49m25.1.1\u001b[0m\n",
      "\u001b[1m[\u001b[0m\u001b[34;49mnotice\u001b[0m\u001b[1;39;49m]\u001b[0m\u001b[39;49m To update, run: \u001b[0m\u001b[32;49mpip3 install --upgrade pip\u001b[0m\n",
      "Requirement already satisfied: seaborn in /Library/Frameworks/Python.framework/Versions/3.13/lib/python3.13/site-packages (0.13.2)\n",
      "Requirement already satisfied: numpy!=1.24.0,>=1.20 in /Library/Frameworks/Python.framework/Versions/3.13/lib/python3.13/site-packages (from seaborn) (2.2.5)\n",
      "Requirement already satisfied: pandas>=1.2 in /Library/Frameworks/Python.framework/Versions/3.13/lib/python3.13/site-packages (from seaborn) (2.2.3)\n",
      "Requirement already satisfied: matplotlib!=3.6.1,>=3.4 in /Library/Frameworks/Python.framework/Versions/3.13/lib/python3.13/site-packages (from seaborn) (3.10.3)\n",
      "Requirement already satisfied: contourpy>=1.0.1 in /Library/Frameworks/Python.framework/Versions/3.13/lib/python3.13/site-packages (from matplotlib!=3.6.1,>=3.4->seaborn) (1.3.2)\n",
      "Requirement already satisfied: cycler>=0.10 in /Library/Frameworks/Python.framework/Versions/3.13/lib/python3.13/site-packages (from matplotlib!=3.6.1,>=3.4->seaborn) (0.12.1)\n",
      "Requirement already satisfied: fonttools>=4.22.0 in /Library/Frameworks/Python.framework/Versions/3.13/lib/python3.13/site-packages (from matplotlib!=3.6.1,>=3.4->seaborn) (4.58.0)\n",
      "Requirement already satisfied: kiwisolver>=1.3.1 in /Library/Frameworks/Python.framework/Versions/3.13/lib/python3.13/site-packages (from matplotlib!=3.6.1,>=3.4->seaborn) (1.4.8)\n",
      "Requirement already satisfied: packaging>=20.0 in /Users/justina/Library/Python/3.13/lib/python/site-packages (from matplotlib!=3.6.1,>=3.4->seaborn) (25.0)\n",
      "Requirement already satisfied: pillow>=8 in /Library/Frameworks/Python.framework/Versions/3.13/lib/python3.13/site-packages (from matplotlib!=3.6.1,>=3.4->seaborn) (11.2.1)\n",
      "Requirement already satisfied: pyparsing>=2.3.1 in /Library/Frameworks/Python.framework/Versions/3.13/lib/python3.13/site-packages (from matplotlib!=3.6.1,>=3.4->seaborn) (3.2.3)\n",
      "Requirement already satisfied: python-dateutil>=2.7 in /Users/justina/Library/Python/3.13/lib/python/site-packages (from matplotlib!=3.6.1,>=3.4->seaborn) (2.9.0.post0)\n",
      "Requirement already satisfied: pytz>=2020.1 in /Library/Frameworks/Python.framework/Versions/3.13/lib/python3.13/site-packages (from pandas>=1.2->seaborn) (2025.2)\n",
      "Requirement already satisfied: tzdata>=2022.7 in /Library/Frameworks/Python.framework/Versions/3.13/lib/python3.13/site-packages (from pandas>=1.2->seaborn) (2025.2)\n",
      "Requirement already satisfied: six>=1.5 in /Users/justina/Library/Python/3.13/lib/python/site-packages (from python-dateutil>=2.7->matplotlib!=3.6.1,>=3.4->seaborn) (1.17.0)\n",
      "\n",
      "\u001b[1m[\u001b[0m\u001b[34;49mnotice\u001b[0m\u001b[1;39;49m]\u001b[0m\u001b[39;49m A new release of pip is available: \u001b[0m\u001b[31;49m25.0.1\u001b[0m\u001b[39;49m -> \u001b[0m\u001b[32;49m25.1.1\u001b[0m\n",
      "\u001b[1m[\u001b[0m\u001b[34;49mnotice\u001b[0m\u001b[1;39;49m]\u001b[0m\u001b[39;49m To update, run: \u001b[0m\u001b[32;49mpip3 install --upgrade pip\u001b[0m\n",
      "Requirement already satisfied: scipy in /Library/Frameworks/Python.framework/Versions/3.13/lib/python3.13/site-packages (1.15.2)\n",
      "Requirement already satisfied: numpy<2.5,>=1.23.5 in /Library/Frameworks/Python.framework/Versions/3.13/lib/python3.13/site-packages (from scipy) (2.2.5)\n",
      "\n",
      "\u001b[1m[\u001b[0m\u001b[34;49mnotice\u001b[0m\u001b[1;39;49m]\u001b[0m\u001b[39;49m A new release of pip is available: \u001b[0m\u001b[31;49m25.0.1\u001b[0m\u001b[39;49m -> \u001b[0m\u001b[32;49m25.1.1\u001b[0m\n",
      "\u001b[1m[\u001b[0m\u001b[34;49mnotice\u001b[0m\u001b[1;39;49m]\u001b[0m\u001b[39;49m To update, run: \u001b[0m\u001b[32;49mpip3 install --upgrade pip\u001b[0m\n"
     ]
    }
   ],
   "source": [
    "# Installing required packages\n",
    "!pip3 install pandas\n",
    "!pip3 install matplotlib\n",
    "!pip3 install seaborn\n",
    "!pip3 install scipy"
   ]
  },
  {
   "cell_type": "code",
   "execution_count": 197,
   "metadata": {},
   "outputs": [],
   "source": [
    "#Importing libraries\n",
    "\n",
    "import seaborn as sns\n",
    "import pandas as pd\n",
    "import matplotlib.pyplot as plt\n",
    "import numpy as np\n",
    "import os\n",
    "import glob\n",
    "from functools import reduce\n",
    "from scipy import stats"
   ]
  },
  {
   "cell_type": "markdown",
   "metadata": {},
   "source": [
    "# 1. Loading the datasets"
   ]
  },
  {
   "cell_type": "code",
   "execution_count": 151,
   "metadata": {},
   "outputs": [],
   "source": [
    "dir = os.chdir('/Users/justina/Desktop/Data Science') # Set working directory (where the folder is)\n",
    "\n",
    "data_files_names = glob.glob('data/sharew8_rel9-0-0_??.dta') # Lists all data in the folder\n"
   ]
  },
  {
   "cell_type": "code",
   "execution_count": 193,
   "metadata": {},
   "outputs": [],
   "source": [
    "#data_files_names"
   ]
  },
  {
   "cell_type": "markdown",
   "metadata": {},
   "source": [
    "### 1.1 Load the data that contains information about the retirement status only."
   ]
  },
  {
   "cell_type": "markdown",
   "metadata": {},
   "source": [
    "We only use 2 columns from \"Employment and pensions\" dataset because the \"retired\" people are only asked about the pensions they are receiving, which is not relevant/suitable for our analysis."
   ]
  },
  {
   "cell_type": "code",
   "execution_count": 152,
   "metadata": {},
   "outputs": [],
   "source": [
    "ret = pd.read_stata('data/sharew8_rel9-0-0_ep.dta')\n",
    "\n",
    "# Filter retirement dataset so that only the retired people are included.\n",
    "\n",
    "ret = ret[ret[\"ep005_\"] == \"Retired\"]\n",
    "new_ret = ret[[\"mergeid\", \"ep005_\", \"ep329_\"]] # This creates a new df, which we will use for merging other dfs to.\n",
    "\n",
    "#new_ret #(34521, 2)"
   ]
  },
  {
   "cell_type": "code",
   "execution_count": 153,
   "metadata": {},
   "outputs": [],
   "source": [
    "# Now, remove unnecessary datasets from the dataset list\n",
    "\n",
    "data_files_names.remove('data/sharew8_rel9-0-0_ep.dta') # Because we have it already loaded.\n",
    "data_files_names.remove('data/sharew8_rel9-0-0_xt.dta') # Answered by proxies.\n",
    "data_files_names.remove('data/sharew8_rel9-0-0_iv.dta') # Answered by proxies."
   ]
  },
  {
   "attachments": {},
   "cell_type": "markdown",
   "metadata": {},
   "source": [
    "### 1.2 Load the rest of the datasets: merge them on \"mergeid\""
   ]
  },
  {
   "cell_type": "markdown",
   "metadata": {},
   "source": [
    "The code below takes ~ 13 seconds to run. We end up with 2767 columns in total."
   ]
  },
  {
   "cell_type": "code",
   "execution_count": 154,
   "metadata": {},
   "outputs": [],
   "source": [
    "# Looping through datasets. \n",
    "# We load each dataset, and merge the data to the new_ret dataset only if that column is not present there already (like other ID columns)\n",
    "\n",
    "for file_name in data_files_names:\n",
    "    # Load each dataset\n",
    "    data = pd.read_stata(file_name)\n",
    "    \n",
    "    # Create a list of columns to keep (those that are not already in new_ret)\n",
    "    columns_to_keep = []\n",
    "    for column in data.columns:\n",
    "        if column not in new_ret.columns or column == \"mergeid\":\n",
    "            columns_to_keep.append(column)\n",
    "    \n",
    "    # Subset the data to keep only the relevant columns\n",
    "    data = data[columns_to_keep]\n",
    "    \n",
    "    # Merge the dataset with new_ret\n",
    "    new_ret = pd.merge(new_ret, data, on='mergeid', how='inner')"
   ]
  },
  {
   "cell_type": "code",
   "execution_count": 155,
   "metadata": {},
   "outputs": [
    {
     "data": {
      "text/plain": [
       "(34521, 2767)"
      ]
     },
     "execution_count": 155,
     "metadata": {},
     "output_type": "execute_result"
    }
   ],
   "source": [
    "new_ret.shape"
   ]
  },
  {
   "cell_type": "markdown",
   "metadata": {},
   "source": [
    "# 2. Calculate the age of the respondent"
   ]
  },
  {
   "cell_type": "code",
   "execution_count": 156,
   "metadata": {},
   "outputs": [],
   "source": [
    "# Ensure the the year of birth and year of retirement are numerical values\n",
    "\n",
    "new_ret['dn003_'] = pd.to_numeric(new_ret['dn003_'], errors='coerce')\n",
    "new_ret['ep329_'] = pd.to_numeric(new_ret['ep329_'], errors='coerce')"
   ]
  },
  {
   "cell_type": "code",
   "execution_count": 157,
   "metadata": {},
   "outputs": [
    {
     "name": "stdout",
     "output_type": "stream",
     "text": [
      "count    23073.000000\n",
      "mean        59.184111\n",
      "std          6.667283\n",
      "min          8.000000\n",
      "25%         56.000000\n",
      "50%         60.000000\n",
      "75%         63.000000\n",
      "max         91.000000\n",
      "Name: age_ret, dtype: float64\n"
     ]
    }
   ],
   "source": [
    "new_ret['age_ret'] = new_ret['ep329_'] - new_ret['dn003_']\n",
    "\n",
    "print(new_ret['age_ret'].describe()) # summary"
   ]
  },
  {
   "cell_type": "code",
   "execution_count": 158,
   "metadata": {},
   "outputs": [
    {
     "name": "stdout",
     "output_type": "stream",
     "text": [
      "(23073, 2768)\n"
     ]
    }
   ],
   "source": [
    "# Remove rows where 'age_ret' is NaN and overwrite df_merged_retired\n",
    "\n",
    "new_ret = new_ret[new_ret['age_ret'].notna()]\n",
    "\n",
    "# Check shape to confirm\n",
    "\n",
    "print(new_ret.shape) # (23073, 2768)"
   ]
  },
  {
   "cell_type": "markdown",
   "metadata": {},
   "source": [
    "Plot of the distribution of age:"
   ]
  },
  {
   "cell_type": "code",
   "execution_count": 159,
   "metadata": {},
   "outputs": [
    {
     "data": {
      "image/png": "[encoded data removed]",
      "text/plain": [
       "<Figure size 600x400 with 1 Axes>"
      ]
     },
     "metadata": {},
     "output_type": "display_data"
    }
   ],
   "source": [
    "plt.style.use(\"seaborn-v0_8-whitegrid\")\n",
    "\n",
    "age_data = new_ret['age_ret']\n",
    "mean_age = age_data.mean()\n",
    "\n",
    "fig, ax = plt.subplots(figsize=(6, 4))\n",
    "\n",
    "ax.hist(age_data, bins=20, edgecolor='black', color='lightsteelblue')\n",
    "\n",
    "ax.axvline(mean_age, color='darkslategray', linestyle='--', linewidth=2, label=f'Mean = {mean_age:.1f}')\n",
    "\n",
    "ax.set_xlabel(\"Age\", fontsize=12)\n",
    "ax.set_ylabel(\"Frequency\", fontsize=12)\n",
    "\n",
    "ax.grid(axis='y', linestyle='--', alpha=0.7)\n",
    "ax.grid(axis='x', visible=False)\n",
    "ax.legend()\n",
    "plt.tight_layout()\n",
    "plt.savefig(\"/Users/justina/Desktop/Data Science/plots/age_distribution.png\", dpi=300, bbox_inches='tight')\n",
    "plt.show()"
   ]
  },
  {
   "cell_type": "markdown",
   "metadata": {},
   "source": [
    "# 3. Data clean-up: NAs"
   ]
  },
  {
   "cell_type": "markdown",
   "metadata": {},
   "source": [
    "First, we remove columns and rows that at least 50 % of data missing:"
   ]
  },
  {
   "cell_type": "code",
   "execution_count": 160,
   "metadata": {},
   "outputs": [],
   "source": [
    "data_clone = new_ret"
   ]
  },
  {
   "cell_type": "code",
   "execution_count": 162,
   "metadata": {},
   "outputs": [],
   "source": [
    "# If columns contain more than 50% of data missing, we remove those columns:\n",
    "\n",
    "# List to hold columns to drop\n",
    "columns_to_drop = []\n",
    "\n",
    "# Loop through each column\n",
    "for column in data_clone.columns:\n",
    "    missing_values = data_clone[column].isna().sum() # Calculates the total number of NAs within the column\n",
    "    if missing_values > data_clone.shape[0] * 0.5:\n",
    "        columns_to_drop.append(column)\n",
    "\n",
    "# Drop the columns all at once\n",
    "data_clone = data_clone.drop(columns=columns_to_drop)"
   ]
  },
  {
   "cell_type": "code",
   "execution_count": 163,
   "metadata": {},
   "outputs": [
    {
     "data": {
      "text/plain": [
       "(23073, 415)"
      ]
     },
     "execution_count": 163,
     "metadata": {},
     "output_type": "execute_result"
    }
   ],
   "source": [
    "data_clone.shape # (23073, 415)"
   ]
  },
  {
   "cell_type": "markdown",
   "metadata": {},
   "source": [
    "Dropping columns with 50 % of the data missing has reduced the features from 2768 to 415."
   ]
  },
  {
   "cell_type": "code",
   "execution_count": 164,
   "metadata": {},
   "outputs": [],
   "source": [
    "# List to hold indices of rows to drop\n",
    "rows_to_drop = []\n",
    "\n",
    "# Loop through each row\n",
    "for index, row in data_clone.iterrows():\n",
    "    missing_values = row.isna().sum()  # Calculates the total number of NAs in the row\n",
    "    if missing_values > data_clone.shape[1] * 0.5:\n",
    "        rows_to_drop.append(index)\n",
    "\n",
    "# Drop the rows all at once\n",
    "data_clone = data_clone.drop(index=rows_to_drop)"
   ]
  },
  {
   "cell_type": "code",
   "execution_count": 165,
   "metadata": {},
   "outputs": [
    {
     "data": {
      "text/plain": [
       "(23073, 415)"
      ]
     },
     "execution_count": 165,
     "metadata": {},
     "output_type": "execute_result"
    }
   ],
   "source": [
    "data_clone.shape # (23073, 415)"
   ]
  },
  {
   "cell_type": "markdown",
   "metadata": {},
   "source": [
    "Dropping rows with 50% of the data missing did not influence the shape of the data, meaning that respondents answered at least half of the questions."
   ]
  },
  {
   "cell_type": "markdown",
   "metadata": {},
   "source": [
    "As there are still columns with more that 4k values missing, we remove them further."
   ]
  },
  {
   "cell_type": "code",
   "execution_count": 166,
   "metadata": {},
   "outputs": [],
   "source": [
    "# List to hold columns to drop\n",
    "columns_to_drop = []\n",
    "\n",
    "# Loop through each column\n",
    "for column in data_clone.columns:\n",
    "    missing_values = data_clone[column].isna().sum() # Calculates the total number of NAs within the column\n",
    "    if missing_values > data_clone.shape[0] * 0.1:\n",
    "        columns_to_drop.append(column)\n",
    "\n",
    "# Drop the columns all at once\n",
    "data_clone = data_clone.drop(columns=columns_to_drop)"
   ]
  },
  {
   "cell_type": "code",
   "execution_count": 167,
   "metadata": {},
   "outputs": [
    {
     "data": {
      "text/plain": [
       "(23073, 273)"
      ]
     },
     "execution_count": 167,
     "metadata": {},
     "output_type": "execute_result"
    }
   ],
   "source": [
    "data_clone.shape # (23073, 273)"
   ]
  },
  {
   "cell_type": "markdown",
   "metadata": {},
   "source": [
    "After removing columns that are missing at least 10 % of data (around 2308 observations), we end u with a dataframe of 23073 rows (participants) and 273 features."
   ]
  },
  {
   "cell_type": "code",
   "execution_count": 168,
   "metadata": {},
   "outputs": [
    {
     "name": "stdout",
     "output_type": "stream",
     "text": [
      "59\n"
     ]
    }
   ],
   "source": [
    "na = [col for col in data_clone.columns if data_clone[col].isna().any()]\n",
    "print(len(na))"
   ]
  },
  {
   "cell_type": "markdown",
   "metadata": {},
   "source": [
    "Now, only 59 columns contain NAs."
   ]
  },
  {
   "cell_type": "markdown",
   "metadata": {},
   "source": [
    "The code below contains a dictionary - which shows the columns that are missing values and how much of them are missing."
   ]
  },
  {
   "cell_type": "code",
   "execution_count": 169,
   "metadata": {},
   "outputs": [],
   "source": [
    "missing_retirement_info = {\n",
    "    col: data_clone[col].isna().sum()\n",
    "    for col in data_clone.columns\n",
    "    if data_clone[col].isna().any()\n",
    "}\n",
    "\n",
    "missing_retirement_info = dict(\n",
    "    sorted(missing_retirement_info.items(), key=lambda item: item[1], reverse=True)\n",
    ")\n"
   ]
  },
  {
   "cell_type": "code",
   "execution_count": 170,
   "metadata": {},
   "outputs": [
    {
     "data": {
      "text/plain": [
       "{'gs008_': np.int64(2147),\n",
       " 'gs009_': np.int64(2147),\n",
       " 'gs006_': np.int64(2143),\n",
       " 'gs007_': np.int64(2143),\n",
       " 'hc116d1': np.int64(2047),\n",
       " 'hc876_': np.int64(2027),\n",
       " 'hc877_': np.int64(2027),\n",
       " 'cf112_': np.int64(2001),\n",
       " 'cf111_': np.int64(1772),\n",
       " 'gs002_': np.int64(1659),\n",
       " 'gs012_': np.int64(1659),\n",
       " 'gs013_': np.int64(1659),\n",
       " 'gs014_': np.int64(1659),\n",
       " 'sn006_1': np.int64(1583),\n",
       " 'cf110_': np.int64(1459),\n",
       " 'ch021_': np.int64(1256),\n",
       " 'sn005_1': np.int64(1004),\n",
       " 'sn009_1': np.int64(1004),\n",
       " 'cf109_': np.int64(968),\n",
       " 'sn012_': np.int64(830),\n",
       " 'ac021_': np.int64(820),\n",
       " 'cf010_': np.int64(451),\n",
       " 'ex009_': np.int64(16),\n",
       " 'ex001_': np.int64(13),\n",
       " 'ac035d1': np.int64(9),\n",
       " 'ac035d4': np.int64(9),\n",
       " 'ac035d5': np.int64(9),\n",
       " 'ac035d7': np.int64(9),\n",
       " 'ac035d8': np.int64(9),\n",
       " 'ac035d9': np.int64(9),\n",
       " 'ac035d10': np.int64(9),\n",
       " 'ac035dno': np.int64(9),\n",
       " 'ac740_': np.int64(9),\n",
       " 'ac022_': np.int64(8),\n",
       " 'ac023_': np.int64(8),\n",
       " 'ac024_': np.int64(8),\n",
       " 'ac025_': np.int64(8),\n",
       " 'ac012_': np.int64(7),\n",
       " 'ac014_': np.int64(7),\n",
       " 'ac015_': np.int64(7),\n",
       " 'ac016_': np.int64(7),\n",
       " 'ac017_': np.int64(7),\n",
       " 'ac018_': np.int64(7),\n",
       " 'ac019_': np.int64(7),\n",
       " 'ac020_': np.int64(7),\n",
       " 'sn002a_1': np.int64(4),\n",
       " 'sn002a_2': np.int64(4),\n",
       " 'sn002a_3': np.int64(4),\n",
       " 'sn002a_4': np.int64(4),\n",
       " 'sn002a_5': np.int64(4),\n",
       " 'sn002a_6': np.int64(4),\n",
       " 'sn003a_': np.int64(4),\n",
       " 'ex009age': np.int64(3),\n",
       " 'sp002_': np.int64(3),\n",
       " 'sp008_': np.int64(3),\n",
       " 'sp022_': np.int64(3),\n",
       " 'it004_': np.int64(1),\n",
       " 'gs701_': np.int64(1),\n",
       " 'dn002_': np.int64(1)}"
      ]
     },
     "execution_count": 170,
     "metadata": {},
     "output_type": "execute_result"
    }
   ],
   "source": [
    "missing_retirement_info"
   ]
  },
  {
   "cell_type": "markdown",
   "metadata": {},
   "source": [
    "For the simplicity, the features with more than a 450 values missing will be further removed."
   ]
  },
  {
   "cell_type": "code",
   "execution_count": 171,
   "metadata": {},
   "outputs": [],
   "source": [
    "test_df = data_clone.loc[:, data_clone.isna().sum() <= 450]"
   ]
  },
  {
   "cell_type": "code",
   "execution_count": 172,
   "metadata": {},
   "outputs": [],
   "source": [
    "missing_retirement_info_test = {\n",
    "    col: test_df[col].isna().sum()\n",
    "    for col in test_df.columns\n",
    "    if test_df[col].isna().any()\n",
    "}\n",
    "\n",
    "missing_retirement_info_test = dict(\n",
    "    sorted(missing_retirement_info_test.items(), key=lambda item: item[1], reverse=True)\n",
    ")"
   ]
  },
  {
   "cell_type": "code",
   "execution_count": 173,
   "metadata": {},
   "outputs": [
    {
     "data": {
      "text/plain": [
       "{'ex009_': np.int64(16),\n",
       " 'ex001_': np.int64(13),\n",
       " 'ac035d1': np.int64(9),\n",
       " 'ac035d4': np.int64(9),\n",
       " 'ac035d5': np.int64(9),\n",
       " 'ac035d7': np.int64(9),\n",
       " 'ac035d8': np.int64(9),\n",
       " 'ac035d9': np.int64(9),\n",
       " 'ac035d10': np.int64(9),\n",
       " 'ac035dno': np.int64(9),\n",
       " 'ac740_': np.int64(9),\n",
       " 'ac022_': np.int64(8),\n",
       " 'ac023_': np.int64(8),\n",
       " 'ac024_': np.int64(8),\n",
       " 'ac025_': np.int64(8),\n",
       " 'ac012_': np.int64(7),\n",
       " 'ac014_': np.int64(7),\n",
       " 'ac015_': np.int64(7),\n",
       " 'ac016_': np.int64(7),\n",
       " 'ac017_': np.int64(7),\n",
       " 'ac018_': np.int64(7),\n",
       " 'ac019_': np.int64(7),\n",
       " 'ac020_': np.int64(7),\n",
       " 'sn002a_1': np.int64(4),\n",
       " 'sn002a_2': np.int64(4),\n",
       " 'sn002a_3': np.int64(4),\n",
       " 'sn002a_4': np.int64(4),\n",
       " 'sn002a_5': np.int64(4),\n",
       " 'sn002a_6': np.int64(4),\n",
       " 'sn003a_': np.int64(4),\n",
       " 'ex009age': np.int64(3),\n",
       " 'sp002_': np.int64(3),\n",
       " 'sp008_': np.int64(3),\n",
       " 'sp022_': np.int64(3),\n",
       " 'it004_': np.int64(1),\n",
       " 'gs701_': np.int64(1),\n",
       " 'dn002_': np.int64(1)}"
      ]
     },
     "execution_count": 173,
     "metadata": {},
     "output_type": "execute_result"
    }
   ],
   "source": [
    "missing_retirement_info_test"
   ]
  },
  {
   "cell_type": "code",
   "execution_count": 174,
   "metadata": {},
   "outputs": [
    {
     "data": {
      "text/plain": [
       "(23073, 251)"
      ]
     },
     "execution_count": 174,
     "metadata": {},
     "output_type": "execute_result"
    }
   ],
   "source": [
    "test_df.shape"
   ]
  },
  {
   "cell_type": "markdown",
   "metadata": {},
   "source": [
    "Second, we remove any observations (row-wise) that contain NAs:"
   ]
  },
  {
   "cell_type": "code",
   "execution_count": 175,
   "metadata": {},
   "outputs": [],
   "source": [
    "retirement = test_df.dropna()"
   ]
  },
  {
   "cell_type": "code",
   "execution_count": 176,
   "metadata": {},
   "outputs": [
    {
     "data": {
      "text/plain": [
       "(23052, 251)"
      ]
     },
     "execution_count": 176,
     "metadata": {},
     "output_type": "execute_result"
    }
   ],
   "source": [
    "retirement.shape"
   ]
  },
  {
   "cell_type": "code",
   "execution_count": 177,
   "metadata": {},
   "outputs": [
    {
     "data": {
      "text/plain": [
       "np.False_"
      ]
     },
     "execution_count": 177,
     "metadata": {},
     "output_type": "execute_result"
    }
   ],
   "source": [
    "retirement.isna().any().any() # No NAs"
   ]
  },
  {
   "cell_type": "markdown",
   "metadata": {},
   "source": [
    "Done. Now we have 23052 participants (good for generalizability) and 251 that we still need to \"look through\"."
   ]
  },
  {
   "cell_type": "markdown",
   "metadata": {},
   "source": [
    "# 4. Remove unnecessary columns"
   ]
  },
  {
   "cell_type": "code",
   "execution_count": 179,
   "metadata": {},
   "outputs": [
    {
     "data": {
      "text/plain": [
       "Index(['mergeid', 'ep005_', 'ep329_', 'hhid8', 'mergeidp8', 'coupleid8',\n",
       "       'country', 'language', 'cf003_', 'cf004_',\n",
       "       ...\n",
       "       'ac035d1', 'ac035d4', 'ac035d5', 'ac035d7', 'ac035d8', 'ac035d9',\n",
       "       'ac035d10', 'ac035dno', 'ac740_', 'age_ret'],\n",
       "      dtype='object', length=251)"
      ]
     },
     "execution_count": 179,
     "metadata": {},
     "output_type": "execute_result"
    }
   ],
   "source": [
    "retirement.columns"
   ]
  },
  {
   "cell_type": "code",
   "execution_count": 180,
   "metadata": {},
   "outputs": [],
   "source": [
    "final = retirement.drop(columns=[\"ep005_\", # remove the status of retirement, \n",
    "                                 \"dn003_\", # remove year of birth\n",
    "                                 \"ep329_\", # remove year of retirement\n",
    "                                 \"hhid8\", \"mergeidp8\", \"coupleid8\", \"language\", #remove unnecessary IDs and language\n",
    "                                 \"mh032_\", # remove another unnecessary variable (intro something)\n",
    "                                 \"sn_childid_1\", \n",
    "                                 \"sn_childid_2\", \n",
    "                                 \"sn_childid_3\", \n",
    "                                 \"sn_childid_4\", \n",
    "                                 \"sn_childid_5\", \n",
    "                                 \"sn_childid_6\", \n",
    "                                 \"sn_childid_7\"])"
   ]
  },
  {
   "cell_type": "code",
   "execution_count": 181,
   "metadata": {},
   "outputs": [
    {
     "name": "stdout",
     "output_type": "stream",
     "text": [
      "['childid_1', 'childid_2', 'childid_3', 'childid_4', 'childid_5', 'childid_6', 'childid_7', 'childid_8', 'childid_9', 'childid_10', 'childid_11', 'childid_12', 'childid_13', 'childid_14', 'childid_15', 'childid_16', 'childid_17', 'childid_18', 'childid_19', 'childid_20']\n"
     ]
    }
   ],
   "source": [
    "childid_columns = [col for col in final.columns if col.startswith('childid')]\n",
    "print(childid_columns)"
   ]
  },
  {
   "cell_type": "code",
   "execution_count": 182,
   "metadata": {},
   "outputs": [],
   "source": [
    "final = final.drop(columns = childid_columns)"
   ]
  },
  {
   "cell_type": "code",
   "execution_count": 183,
   "metadata": {},
   "outputs": [
    {
     "data": {
      "text/plain": [
       "(23052, 216)"
      ]
     },
     "execution_count": 183,
     "metadata": {},
     "output_type": "execute_result"
    }
   ],
   "source": [
    "final.shape #23052 rows, 216 columns"
   ]
  },
  {
   "cell_type": "markdown",
   "metadata": {},
   "source": [
    "Remove the outliers from the data:"
   ]
  },
  {
   "cell_type": "code",
   "execution_count": null,
   "metadata": {},
   "outputs": [
    {
     "data": {
      "image/png": "[encoded data removed]",
      "text/plain": [
       "<Figure size 400x600 with 1 Axes>"
      ]
     },
     "metadata": {},
     "output_type": "display_data"
    }
   ],
   "source": [
    "# First, we plot the outliers:\n",
    "\n",
    "plt.figure(figsize=(4, 6))\n",
    "\n",
    "sns.boxplot(y=final['age_ret'], color='lightsteelblue')\n",
    "\n",
    "plt.ylabel('Age at retirement')\n",
    "plt.grid(axis='x', linestyle='--', alpha=0.7)\n",
    "\n",
    "plt.savefig(\"/Users/justina/Desktop/Data Science/plots/age_outliers.png\", dpi=300, bbox_inches='tight')\n",
    "plt.show()\n"
   ]
  },
  {
   "cell_type": "markdown",
   "metadata": {},
   "source": [
    "As there are quite a lot outliers, we will remove them with a z-score method. Therefore, any observation that is more than 3 SD away will be removed from the dataset."
   ]
  },
  {
   "cell_type": "code",
   "execution_count": 143,
   "metadata": {},
   "outputs": [],
   "source": [
    "z_scores = stats.zscore(final['age_ret'])\n",
    "final_clean = final[(abs(z_scores) < 3)]"
   ]
  },
  {
   "cell_type": "code",
   "execution_count": 217,
   "metadata": {},
   "outputs": [
    {
     "name": "stdout",
     "output_type": "stream",
     "text": [
      "count    22658.000000\n",
      "mean        59.575735\n",
      "std          5.568619\n",
      "min         40.000000\n",
      "25%         56.000000\n",
      "50%         60.000000\n",
      "75%         64.000000\n",
      "max         79.000000\n",
      "Name: age_ret, dtype: float64\n"
     ]
    }
   ],
   "source": [
    "print(final_clean['age_ret'].describe()) # summary"
   ]
  },
  {
   "cell_type": "code",
   "execution_count": 218,
   "metadata": {},
   "outputs": [
    {
     "data": {
      "text/plain": [
       "(22658, 216)"
      ]
     },
     "execution_count": 218,
     "metadata": {},
     "output_type": "execute_result"
    }
   ],
   "source": [
    "final_clean.shape"
   ]
  },
  {
   "cell_type": "markdown",
   "metadata": {},
   "source": [
    "Now, the plot below visualizes age distribution once the outliers are removed."
   ]
  },
  {
   "cell_type": "code",
   "execution_count": 147,
   "metadata": {},
   "outputs": [
    {
     "data": {
      "image/png": "[encoded data removed]",
      "text/plain": [
       "<Figure size 600x400 with 1 Axes>"
      ]
     },
     "metadata": {},
     "output_type": "display_data"
    }
   ],
   "source": [
    "plt.style.use(\"seaborn-v0_8-whitegrid\")\n",
    "\n",
    "final_clean_data = final_clean['age_ret']\n",
    "mean_age_final_clean = final_clean_data.mean()\n",
    "\n",
    "fig, ax = plt.subplots(figsize=(6, 4))\n",
    "\n",
    "ax.hist(final_clean_data, bins=20, edgecolor='black', color='lightsteelblue')\n",
    "\n",
    "ax.axvline(mean_age_final_clean, color='darkslategray', linestyle='--', linewidth=2, label=f'Mean = {mean_age_final_clean:.1f}')\n",
    "\n",
    "ax.set_xlabel(\"Age\", fontsize=12)\n",
    "ax.set_ylabel(\"Frequency\", fontsize=12)\n",
    "\n",
    "ax.grid(axis='y', linestyle='--', alpha=0.7)\n",
    "ax.grid(axis='x', visible=False)\n",
    "ax.legend()\n",
    "plt.tight_layout()\n",
    "plt.savefig(\"/Users/justina/Desktop/Data Science/plots/age_distribution_z_scored.png\", dpi=300, bbox_inches='tight')\n",
    "plt.show()"
   ]
  },
  {
   "cell_type": "markdown",
   "metadata": {},
   "source": [
    "# 5. Save the data:"
   ]
  },
  {
   "cell_type": "code",
   "execution_count": 219,
   "metadata": {},
   "outputs": [],
   "source": [
    "# Save retirement data as CSV file\n",
    "\n",
    "final_clean.to_csv(\"/Users/justina/Desktop/Data Science/retirement_data_all.csv\", index=False)\n"
   ]
  },
  {
   "cell_type": "markdown",
   "metadata": {},
   "source": [
    "# 6. Extra plots:"
   ]
  },
  {
   "cell_type": "code",
   "execution_count": 220,
   "metadata": {},
   "outputs": [
    {
     "data": {
      "image/png": "[encoded data removed]",
      "text/plain": [
       "<Figure size 800x600 with 1 Axes>"
      ]
     },
     "metadata": {},
     "output_type": "display_data"
    }
   ],
   "source": [
    "plt.style.use(\"seaborn-v0_8-whitegrid\")\n",
    "\n",
    "country_counts = final['country'].value_counts().sort_values(ascending=True)\n",
    "\n",
    "fig, ax = plt.subplots(figsize=(8, 6))\n",
    "\n",
    "# Horizontal bar plot\n",
    "ax.barh(country_counts.index, country_counts.values, color='lightsteelblue', edgecolor='black')\n",
    "\n",
    "ax.set_ylabel(\"Country\", fontsize=12)\n",
    "ax.set_xlabel(\"Number of Respondents\", fontsize=12)\n",
    "\n",
    "ax.grid(axis='x', linestyle='--', alpha=0.7)\n",
    "ax.grid(axis='y', visible=False)\n",
    "\n",
    "plt.tight_layout()\n",
    "plt.savefig(\"/Users/justina/Desktop/Data Science/plots/respondents_by_country.png\", dpi=300, bbox_inches='tight')\n",
    "plt.show()\n"
   ]
  }
 ],
 "metadata": {
  "kernelspec": {
   "display_name": "Python 3",
   "language": "python",
   "name": "python3"
  },
  "language_info": {
   "codemirror_mode": {
    "name": "ipython",
    "version": 3
   },
   "file_extension": ".py",
   "mimetype": "text/x-python",
   "name": "python",
   "nbconvert_exporter": "python",
   "pygments_lexer": "ipython3",
   "version": "3.13.3"
  },
  "orig_nbformat": 4,
  "vscode": {
   "interpreter": {
    "hash": "aee8b7b246df8f9039afb4144a1f6fd8d2ca17a180786b69acc140d282b71a49"
   }
  }
 },
 "nbformat": 4,
 "nbformat_minor": 2
}
