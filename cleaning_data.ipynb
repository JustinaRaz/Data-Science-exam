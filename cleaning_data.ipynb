{
 "cells": [
  {
   "cell_type": "markdown",
   "metadata": {},
   "source": [
    "# Cleaning the dataset"
   ]
  },
  {
   "cell_type": "code",
   "execution_count": null,
   "metadata": {},
   "outputs": [],
   "source": [
    "# Installing required packages\n",
    "!pip3 install pandas"
   ]
  },
  {
   "cell_type": "code",
   "execution_count": null,
   "metadata": {},
   "outputs": [],
   "source": [
    "#Importing libraries\n",
    "\n",
    "import pandas as pd"
   ]
  },
  {
   "attachments": {},
   "cell_type": "markdown",
   "metadata": {},
   "source": [
    "### 1. Load datasets:"
   ]
  },
  {
   "cell_type": "code",
   "execution_count": null,
   "metadata": {},
   "outputs": [],
   "source": [
    "# Paths to the data\n",
    "\n",
    "file_path_mh = \"/Users/justina/Desktop/Data Science/data/sharew8_rel9-0-0_mh.dta\" # Our main dataset\n",
    "file_path_ep = \"/Users/justina/Desktop/Data Science/data/sharew8_rel9-0-0_ep.dta\" # Extra dataset from which the data is merged to the main one.\n",
    "file_path_dn = \"/Users/justina/Desktop/Data Science/data/sharew8_rel9-0-0_dn.dta\" # Extra dataset from which the data is merged to the main one.\n",
    "\n",
    "# Load as a pandas DataFrame\n",
    "\n",
    "df_mh = pd.read_stata(file_path_mh) # mental health data set\n",
    "df_ep = pd.read_stata(file_path_ep) # this data set consists of information on who is retired and who is not: df_ep[\"ep005_\"]\n",
    "df_dn = pd.read_stata(file_path_dn) # this data set consists of yeart of birth\n"
   ]
  },
  {
   "cell_type": "code",
   "execution_count": 128,
   "metadata": {},
   "outputs": [
    {
     "name": "stdout",
     "output_type": "stream",
     "text": [
      "(53695, 31)\n"
     ]
    }
   ],
   "source": [
    "# Select only the needed columns before merging\n",
    "df_dn_sub = df_dn[[\"mergeid\", \"dn003_\"]]\n",
    "df_ep_sub = df_ep[[\"mergeid\", \"ep329_\"]]\n",
    "df_dn_gender = df_dn[[\"mergeid\", \"dn042_\"]]\n",
    "df_ret = df_ep[[\"mergeid\", \"ep005_\"]]\n",
    "\n",
    "# Start with df_mh and merge the two others\n",
    "df_merged = (\n",
    "    df_mh\n",
    "    .merge(df_dn_sub, on=\"mergeid\", how=\"left\") # Year of birth\n",
    "    .merge(df_ep_sub, on=\"mergeid\", how=\"left\") # Year of retirement\n",
    "    .merge(df_dn_gender, on=\"mergeid\", how=\"left\") # Gender\n",
    "    .merge(df_ret, on=\"mergeid\", how=\"left\") # status of retirement or not\n",
    ")\n",
    "\n",
    "\n",
    "print(df_merged.shape)"
   ]
  },
  {
   "cell_type": "code",
   "execution_count": 129,
   "metadata": {},
   "outputs": [],
   "source": [
    "#Categorical to numeric\n",
    "# Convert both to numeric (in case they're categorical)\n",
    "df_merged['dn003_'] = pd.to_numeric(df_merged['dn003_'], errors='coerce')\n",
    "df_merged['ep329_'] = pd.to_numeric(df_merged['ep329_'], errors='coerce')\n",
    "\n",
    "# Map 'Male' to 0 and 'Female' to 1\n",
    "df_merged['dn042_'] = df_merged['dn042_'].map({'Male': 0, 'Female': 1})"
   ]
  },
  {
   "cell_type": "code",
   "execution_count": 130,
   "metadata": {},
   "outputs": [],
   "source": [
    "# Filtering data: only observations from retired participants\n",
    "\n",
    "retirement = df_merged[df_merged[\"ep005_\"] == \"Retired\"]"
   ]
  },
  {
   "cell_type": "code",
   "execution_count": 131,
   "metadata": {},
   "outputs": [],
   "source": [
    "# Filtering data: only observations from respondents, and not proxies\n",
    "\n",
    "retirement = retirement[retirement[\"mh032_\"] == \"Respondent\"]"
   ]
  },
  {
   "cell_type": "code",
   "execution_count": 132,
   "metadata": {},
   "outputs": [
    {
     "name": "stdout",
     "output_type": "stream",
     "text": [
      "(33758, 31)\n"
     ]
    }
   ],
   "source": [
    "print(retirement.shape)"
   ]
  },
  {
   "cell_type": "code",
   "execution_count": 133,
   "metadata": {},
   "outputs": [
    {
     "name": "stdout",
     "output_type": "stream",
     "text": [
      "count    22603.000000\n",
      "mean        59.186435\n",
      "std          6.667533\n",
      "min          8.000000\n",
      "25%         56.000000\n",
      "50%         60.000000\n",
      "75%         63.000000\n",
      "max         91.000000\n",
      "Name: age_ret, dtype: float64\n"
     ]
    }
   ],
   "source": [
    "# Calculating the age of retirement\n",
    "\n",
    "retirement['age_ret'] = retirement['ep329_'] - retirement['dn003_']\n",
    "print(retirement['age_ret'].describe())\n"
   ]
  },
  {
   "cell_type": "code",
   "execution_count": 134,
   "metadata": {},
   "outputs": [
    {
     "name": "stdout",
     "output_type": "stream",
     "text": [
      "(22603, 32)\n"
     ]
    }
   ],
   "source": [
    "# Remove rows where 'age_ret' is NaN and overwrite df_merged_retired\n",
    "retirement = retirement[retirement['age_ret'].notna()]\n",
    "\n",
    "# Check shape to confirm\n",
    "print(retirement.shape)"
   ]
  },
  {
   "cell_type": "code",
   "execution_count": 135,
   "metadata": {},
   "outputs": [
    {
     "name": "stdout",
     "output_type": "stream",
     "text": [
      "Number of NaN values in age_ret: 0\n"
     ]
    }
   ],
   "source": [
    "# Count number of NaN entries in 'age_ret'\n",
    "num_nans = retirement['age_ret'].isna().sum()\n",
    "print(f\"Number of NaN values in age_ret: {num_nans}\")"
   ]
  },
  {
   "cell_type": "code",
   "execution_count": 136,
   "metadata": {},
   "outputs": [
    {
     "data": {
      "text/plain": [
       "Index(['mergeid', 'hhid8', 'mergeidp8', 'coupleid8', 'country', 'language',\n",
       "       'mh002_', 'mh003_', 'mh004_', 'mh005_', 'mh006_', 'mh007_', 'mh008_',\n",
       "       'mh009_', 'mh010_', 'mh011_', 'mh012_', 'mh013_', 'mh014_', 'mh015_',\n",
       "       'mh016_', 'mh017_', 'mh032_', 'mh034_', 'mh035_', 'mh036_', 'mh037_',\n",
       "       'dn003_', 'ep329_', 'dn042_', 'ep005_', 'age_ret'],\n",
       "      dtype='object')"
      ]
     },
     "execution_count": 136,
     "metadata": {},
     "output_type": "execute_result"
    }
   ],
   "source": [
    "retirement.columns"
   ]
  },
  {
   "cell_type": "code",
   "execution_count": null,
   "metadata": {},
   "outputs": [
    {
     "data": {
      "text/plain": [
       "np.int64(0)"
      ]
     },
     "execution_count": 123,
     "metadata": {},
     "output_type": "execute_result"
    }
   ],
   "source": [
    "#retirement[\"mh002_\"].isnull().sum() #0 empty rows\n",
    "#retirement[\"mh003_\"].isnull().sum() #0\n",
    "#retirement[\"mh004_\"].isnull().sum() #0\n",
    "#retirement[\"mh005_\"].isnull().sum() #0\n",
    "#retirement[\"mh006_\"].isnull().sum() #19360\n",
    "#retirement[\"mh007_\"].isnull().sum() #0\n",
    "#retirement[\"mh008_\"].isnull().sum() #0\n",
    "#retirement[\"mh009_\"].isnull().sum() #21822\n",
    "#retirement[\"mh010_\"].isnull().sum() #0\n",
    "#retirement[\"mh011_\"].isnull().sum() #0\n",
    "#retirement[\"mh012_\"].isnull().sum() #22191\n",
    "#retirement[\"mh013_\"].isnull().sum() #0\n",
    "#retirement[\"mh014_\"].isnull().sum() #0\n",
    "#retirement[\"mh015_\"].isnull().sum() #0\n",
    "#retirement[\"mh016_\"].isnull().sum() #0\n",
    "#retirement[\"mh017_\"].isnull().sum() #0\n",
    "#retirement[\"mh032_\"].isnull().sum() #0\n",
    "#retirement[\"mh034_\"].isnull().sum() #0\n",
    "#retirement[\"mh035_\"].isnull().sum() #0\n",
    "#retirement[\"mh036_\"].isnull().sum() #0\n",
    "#retirement[\"mh037_\"].isnull().sum() #0\n",
    "#retirement[\"dn003_\"].isnull().sum() #0\n",
    "#retirement[\"ep329_\"].isnull().sum() #0\n",
    "#retirement[\"dn042_\"].isnull().sum() #0\n",
    "#retirement[\"ep005_\"].isnull().sum() #0"
   ]
  },
  {
   "cell_type": "code",
   "execution_count": 137,
   "metadata": {},
   "outputs": [],
   "source": [
    "retirement = retirement.drop(columns=[\"mh006_\", \"mh009_\", \"mh012_\", \"ep005_\", \"dn003_\", \"ep329_\"])\n"
   ]
  },
  {
   "cell_type": "code",
   "execution_count": 140,
   "metadata": {},
   "outputs": [],
   "source": [
    "retirement = retirement.drop(columns=['hhid8', 'mergeidp8', 'coupleid8','language'])"
   ]
  },
  {
   "cell_type": "code",
   "execution_count": 147,
   "metadata": {},
   "outputs": [],
   "source": [
    "retirement = retirement.drop(columns=['mh032_'])"
   ]
  },
  {
   "cell_type": "code",
   "execution_count": 148,
   "metadata": {},
   "outputs": [
    {
     "data": {
      "text/plain": [
       "(22603, 21)"
      ]
     },
     "execution_count": 148,
     "metadata": {},
     "output_type": "execute_result"
    }
   ],
   "source": [
    "retirement.shape"
   ]
  },
  {
   "cell_type": "code",
   "execution_count": 149,
   "metadata": {},
   "outputs": [
    {
     "name": "stdout",
     "output_type": "stream",
     "text": [
      "retirement has been saved successfully!\n"
     ]
    }
   ],
   "source": [
    "# Save df_final to a CSV file\n",
    "retirement.to_csv(\"/Users/justina/Desktop/Data Science/data/retirement_data.csv\", index=False)\n",
    "\n",
    "# Confirm\n",
    "print(\"retirement has been saved successfully!\")\n"
   ]
  },
  {
   "cell_type": "markdown",
   "metadata": {},
   "source": [
    "## XGBoost"
   ]
  },
  {
   "cell_type": "code",
   "execution_count": 150,
   "metadata": {},
   "outputs": [],
   "source": [
    "# [1] Separating features and target\n",
    "\n",
    "X = retirement.drop(\"age_ret\", axis=1).values  # replace 'target_column' with your actual target name\n",
    "y = retirement[\"age_ret\"].values"
   ]
  },
  {
   "cell_type": "code",
   "execution_count": 151,
   "metadata": {},
   "outputs": [
    {
     "data": {
      "text/html": [
       "<div>\n",
       "<style scoped>\n",
       "    .dataframe tbody tr th:only-of-type {\n",
       "        vertical-align: middle;\n",
       "    }\n",
       "\n",
       "    .dataframe tbody tr th {\n",
       "        vertical-align: top;\n",
       "    }\n",
       "\n",
       "    .dataframe thead th {\n",
       "        text-align: right;\n",
       "    }\n",
       "</style>\n",
       "<table border=\"1\" class=\"dataframe\">\n",
       "  <thead>\n",
       "    <tr style=\"text-align: right;\">\n",
       "      <th></th>\n",
       "      <th>mergeid</th>\n",
       "      <th>country</th>\n",
       "      <th>mh002_</th>\n",
       "      <th>mh003_</th>\n",
       "      <th>mh004_</th>\n",
       "      <th>mh005_</th>\n",
       "      <th>mh007_</th>\n",
       "      <th>mh008_</th>\n",
       "      <th>mh010_</th>\n",
       "      <th>mh011_</th>\n",
       "      <th>...</th>\n",
       "      <th>mh014_</th>\n",
       "      <th>mh015_</th>\n",
       "      <th>mh016_</th>\n",
       "      <th>mh017_</th>\n",
       "      <th>mh034_</th>\n",
       "      <th>mh035_</th>\n",
       "      <th>mh036_</th>\n",
       "      <th>mh037_</th>\n",
       "      <th>dn042_</th>\n",
       "      <th>age_ret</th>\n",
       "    </tr>\n",
       "  </thead>\n",
       "  <tbody>\n",
       "    <tr>\n",
       "      <th>0</th>\n",
       "      <td>AT-001215-01</td>\n",
       "      <td>Austria</td>\n",
       "      <td>No</td>\n",
       "      <td>Any hopes mentioned</td>\n",
       "      <td>No such feelings</td>\n",
       "      <td>No such feelings</td>\n",
       "      <td>Trouble with sleep or recent change in pattern</td>\n",
       "      <td>No mention of loss of interest</td>\n",
       "      <td>No</td>\n",
       "      <td>No diminution in desire for food</td>\n",
       "      <td>...</td>\n",
       "      <td>No such difficulty mentioned</td>\n",
       "      <td>No such difficulty mentioned</td>\n",
       "      <td>Mentions any enjoyment from activity</td>\n",
       "      <td>No</td>\n",
       "      <td>Hardly ever or never</td>\n",
       "      <td>Hardly ever or never</td>\n",
       "      <td>Hardly ever or never</td>\n",
       "      <td>Hardly ever or never</td>\n",
       "      <td>1</td>\n",
       "      <td>45.0</td>\n",
       "    </tr>\n",
       "    <tr>\n",
       "      <th>4</th>\n",
       "      <td>AT-001881-02</td>\n",
       "      <td>Austria</td>\n",
       "      <td>No</td>\n",
       "      <td>No hopes mentioned</td>\n",
       "      <td>No such feelings</td>\n",
       "      <td>No such feelings</td>\n",
       "      <td>No trouble sleeping</td>\n",
       "      <td>No mention of loss of interest</td>\n",
       "      <td>No</td>\n",
       "      <td>No diminution in desire for food</td>\n",
       "      <td>...</td>\n",
       "      <td>No such difficulty mentioned</td>\n",
       "      <td>No such difficulty mentioned</td>\n",
       "      <td>Mentions any enjoyment from activity</td>\n",
       "      <td>No</td>\n",
       "      <td>Hardly ever or never</td>\n",
       "      <td>Hardly ever or never</td>\n",
       "      <td>Hardly ever or never</td>\n",
       "      <td>Hardly ever or never</td>\n",
       "      <td>0</td>\n",
       "      <td>60.0</td>\n",
       "    </tr>\n",
       "    <tr>\n",
       "      <th>8</th>\n",
       "      <td>AT-002525-01</td>\n",
       "      <td>Austria</td>\n",
       "      <td>No</td>\n",
       "      <td>Any hopes mentioned</td>\n",
       "      <td>No such feelings</td>\n",
       "      <td>No such feelings</td>\n",
       "      <td>No trouble sleeping</td>\n",
       "      <td>Non-specific or uncodeable response</td>\n",
       "      <td>No</td>\n",
       "      <td>No diminution in desire for food</td>\n",
       "      <td>...</td>\n",
       "      <td>Difficulty in concentrating</td>\n",
       "      <td>Difficulty in concentrating</td>\n",
       "      <td>Mentions any enjoyment from activity</td>\n",
       "      <td>No</td>\n",
       "      <td>Hardly ever or never</td>\n",
       "      <td>Hardly ever or never</td>\n",
       "      <td>Hardly ever or never</td>\n",
       "      <td>Hardly ever or never</td>\n",
       "      <td>1</td>\n",
       "      <td>59.0</td>\n",
       "    </tr>\n",
       "    <tr>\n",
       "      <th>9</th>\n",
       "      <td>AT-002525-02</td>\n",
       "      <td>Austria</td>\n",
       "      <td>No</td>\n",
       "      <td>Any hopes mentioned</td>\n",
       "      <td>No such feelings</td>\n",
       "      <td>No such feelings</td>\n",
       "      <td>No trouble sleeping</td>\n",
       "      <td>No mention of loss of interest</td>\n",
       "      <td>No</td>\n",
       "      <td>No diminution in desire for food</td>\n",
       "      <td>...</td>\n",
       "      <td>No such difficulty mentioned</td>\n",
       "      <td>No such difficulty mentioned</td>\n",
       "      <td>Mentions any enjoyment from activity</td>\n",
       "      <td>No</td>\n",
       "      <td>Hardly ever or never</td>\n",
       "      <td>Hardly ever or never</td>\n",
       "      <td>Hardly ever or never</td>\n",
       "      <td>Hardly ever or never</td>\n",
       "      <td>0</td>\n",
       "      <td>60.0</td>\n",
       "    </tr>\n",
       "    <tr>\n",
       "      <th>10</th>\n",
       "      <td>AT-003194-01</td>\n",
       "      <td>Austria</td>\n",
       "      <td>No</td>\n",
       "      <td>Any hopes mentioned</td>\n",
       "      <td>No such feelings</td>\n",
       "      <td>No such feelings</td>\n",
       "      <td>No trouble sleeping</td>\n",
       "      <td>No mention of loss of interest</td>\n",
       "      <td>No</td>\n",
       "      <td>No diminution in desire for food</td>\n",
       "      <td>...</td>\n",
       "      <td>No such difficulty mentioned</td>\n",
       "      <td>No such difficulty mentioned</td>\n",
       "      <td>Mentions any enjoyment from activity</td>\n",
       "      <td>No</td>\n",
       "      <td>Hardly ever or never</td>\n",
       "      <td>Hardly ever or never</td>\n",
       "      <td>Hardly ever or never</td>\n",
       "      <td>Hardly ever or never</td>\n",
       "      <td>0</td>\n",
       "      <td>58.0</td>\n",
       "    </tr>\n",
       "    <tr>\n",
       "      <th>...</th>\n",
       "      <td>...</td>\n",
       "      <td>...</td>\n",
       "      <td>...</td>\n",
       "      <td>...</td>\n",
       "      <td>...</td>\n",
       "      <td>...</td>\n",
       "      <td>...</td>\n",
       "      <td>...</td>\n",
       "      <td>...</td>\n",
       "      <td>...</td>\n",
       "      <td>...</td>\n",
       "      <td>...</td>\n",
       "      <td>...</td>\n",
       "      <td>...</td>\n",
       "      <td>...</td>\n",
       "      <td>...</td>\n",
       "      <td>...</td>\n",
       "      <td>...</td>\n",
       "      <td>...</td>\n",
       "      <td>...</td>\n",
       "      <td>...</td>\n",
       "    </tr>\n",
       "    <tr>\n",
       "      <th>53686</th>\n",
       "      <td>SK-989881-02</td>\n",
       "      <td>Slovakia</td>\n",
       "      <td>No</td>\n",
       "      <td>Any hopes mentioned</td>\n",
       "      <td>No such feelings</td>\n",
       "      <td>No such feelings</td>\n",
       "      <td>No trouble sleeping</td>\n",
       "      <td>No mention of loss of interest</td>\n",
       "      <td>No</td>\n",
       "      <td>No diminution in desire for food</td>\n",
       "      <td>...</td>\n",
       "      <td>No such difficulty mentioned</td>\n",
       "      <td>No such difficulty mentioned</td>\n",
       "      <td>Mentions any enjoyment from activity</td>\n",
       "      <td>No</td>\n",
       "      <td>Some of the time</td>\n",
       "      <td>Often</td>\n",
       "      <td>Some of the time</td>\n",
       "      <td>Hardly ever or never</td>\n",
       "      <td>1</td>\n",
       "      <td>63.0</td>\n",
       "    </tr>\n",
       "    <tr>\n",
       "      <th>53689</th>\n",
       "      <td>SK-992332-01</td>\n",
       "      <td>Slovakia</td>\n",
       "      <td>No</td>\n",
       "      <td>No hopes mentioned</td>\n",
       "      <td>No such feelings</td>\n",
       "      <td>No such feelings</td>\n",
       "      <td>Trouble with sleep or recent change in pattern</td>\n",
       "      <td>No mention of loss of interest</td>\n",
       "      <td>No</td>\n",
       "      <td>No diminution in desire for food</td>\n",
       "      <td>...</td>\n",
       "      <td>No such difficulty mentioned</td>\n",
       "      <td>No such difficulty mentioned</td>\n",
       "      <td>Mentions any enjoyment from activity</td>\n",
       "      <td>No</td>\n",
       "      <td>Hardly ever or never</td>\n",
       "      <td>Hardly ever or never</td>\n",
       "      <td>Hardly ever or never</td>\n",
       "      <td>Hardly ever or never</td>\n",
       "      <td>0</td>\n",
       "      <td>60.0</td>\n",
       "    </tr>\n",
       "    <tr>\n",
       "      <th>53690</th>\n",
       "      <td>SK-992332-02</td>\n",
       "      <td>Slovakia</td>\n",
       "      <td>No</td>\n",
       "      <td>Any hopes mentioned</td>\n",
       "      <td>No such feelings</td>\n",
       "      <td>No such feelings</td>\n",
       "      <td>No trouble sleeping</td>\n",
       "      <td>No mention of loss of interest</td>\n",
       "      <td>No</td>\n",
       "      <td>No diminution in desire for food</td>\n",
       "      <td>...</td>\n",
       "      <td>No such difficulty mentioned</td>\n",
       "      <td>No such difficulty mentioned</td>\n",
       "      <td>Mentions any enjoyment from activity</td>\n",
       "      <td>No</td>\n",
       "      <td>Hardly ever or never</td>\n",
       "      <td>Hardly ever or never</td>\n",
       "      <td>Hardly ever or never</td>\n",
       "      <td>Hardly ever or never</td>\n",
       "      <td>1</td>\n",
       "      <td>55.0</td>\n",
       "    </tr>\n",
       "    <tr>\n",
       "      <th>53691</th>\n",
       "      <td>SK-993822-01</td>\n",
       "      <td>Slovakia</td>\n",
       "      <td>Yes</td>\n",
       "      <td>No hopes mentioned</td>\n",
       "      <td>No such feelings</td>\n",
       "      <td>No such feelings</td>\n",
       "      <td>No trouble sleeping</td>\n",
       "      <td>No mention of loss of interest</td>\n",
       "      <td>No</td>\n",
       "      <td>No diminution in desire for food</td>\n",
       "      <td>...</td>\n",
       "      <td>No such difficulty mentioned</td>\n",
       "      <td>No such difficulty mentioned</td>\n",
       "      <td>Fails to mention any enjoyable activity</td>\n",
       "      <td>Yes</td>\n",
       "      <td>Some of the time</td>\n",
       "      <td>Some of the time</td>\n",
       "      <td>Some of the time</td>\n",
       "      <td>Some of the time</td>\n",
       "      <td>1</td>\n",
       "      <td>57.0</td>\n",
       "    </tr>\n",
       "    <tr>\n",
       "      <th>53693</th>\n",
       "      <td>SK-995042-02</td>\n",
       "      <td>Slovakia</td>\n",
       "      <td>No</td>\n",
       "      <td>Any hopes mentioned</td>\n",
       "      <td>No such feelings</td>\n",
       "      <td>No such feelings</td>\n",
       "      <td>Trouble with sleep or recent change in pattern</td>\n",
       "      <td>No mention of loss of interest</td>\n",
       "      <td>Yes</td>\n",
       "      <td>No diminution in desire for food</td>\n",
       "      <td>...</td>\n",
       "      <td>No such difficulty mentioned</td>\n",
       "      <td>Difficulty in concentrating</td>\n",
       "      <td>Mentions any enjoyment from activity</td>\n",
       "      <td>Yes</td>\n",
       "      <td>Hardly ever or never</td>\n",
       "      <td>Hardly ever or never</td>\n",
       "      <td>Some of the time</td>\n",
       "      <td>Some of the time</td>\n",
       "      <td>0</td>\n",
       "      <td>62.0</td>\n",
       "    </tr>\n",
       "  </tbody>\n",
       "</table>\n",
       "<p>22603 rows × 21 columns</p>\n",
       "</div>"
      ],
      "text/plain": [
       "            mergeid   country mh002_               mh003_            mh004_  \\\n",
       "0      AT-001215-01   Austria     No  Any hopes mentioned  No such feelings   \n",
       "4      AT-001881-02   Austria     No   No hopes mentioned  No such feelings   \n",
       "8      AT-002525-01   Austria     No  Any hopes mentioned  No such feelings   \n",
       "9      AT-002525-02   Austria     No  Any hopes mentioned  No such feelings   \n",
       "10     AT-003194-01   Austria     No  Any hopes mentioned  No such feelings   \n",
       "...             ...       ...    ...                  ...               ...   \n",
       "53686  SK-989881-02  Slovakia     No  Any hopes mentioned  No such feelings   \n",
       "53689  SK-992332-01  Slovakia     No   No hopes mentioned  No such feelings   \n",
       "53690  SK-992332-02  Slovakia     No  Any hopes mentioned  No such feelings   \n",
       "53691  SK-993822-01  Slovakia    Yes   No hopes mentioned  No such feelings   \n",
       "53693  SK-995042-02  Slovakia     No  Any hopes mentioned  No such feelings   \n",
       "\n",
       "                 mh005_                                          mh007_  \\\n",
       "0      No such feelings  Trouble with sleep or recent change in pattern   \n",
       "4      No such feelings                             No trouble sleeping   \n",
       "8      No such feelings                             No trouble sleeping   \n",
       "9      No such feelings                             No trouble sleeping   \n",
       "10     No such feelings                             No trouble sleeping   \n",
       "...                 ...                                             ...   \n",
       "53686  No such feelings                             No trouble sleeping   \n",
       "53689  No such feelings  Trouble with sleep or recent change in pattern   \n",
       "53690  No such feelings                             No trouble sleeping   \n",
       "53691  No such feelings                             No trouble sleeping   \n",
       "53693  No such feelings  Trouble with sleep or recent change in pattern   \n",
       "\n",
       "                                    mh008_ mh010_  \\\n",
       "0           No mention of loss of interest     No   \n",
       "4           No mention of loss of interest     No   \n",
       "8      Non-specific or uncodeable response     No   \n",
       "9           No mention of loss of interest     No   \n",
       "10          No mention of loss of interest     No   \n",
       "...                                    ...    ...   \n",
       "53686       No mention of loss of interest     No   \n",
       "53689       No mention of loss of interest     No   \n",
       "53690       No mention of loss of interest     No   \n",
       "53691       No mention of loss of interest     No   \n",
       "53693       No mention of loss of interest    Yes   \n",
       "\n",
       "                                 mh011_  ...                        mh014_  \\\n",
       "0      No diminution in desire for food  ...  No such difficulty mentioned   \n",
       "4      No diminution in desire for food  ...  No such difficulty mentioned   \n",
       "8      No diminution in desire for food  ...   Difficulty in concentrating   \n",
       "9      No diminution in desire for food  ...  No such difficulty mentioned   \n",
       "10     No diminution in desire for food  ...  No such difficulty mentioned   \n",
       "...                                 ...  ...                           ...   \n",
       "53686  No diminution in desire for food  ...  No such difficulty mentioned   \n",
       "53689  No diminution in desire for food  ...  No such difficulty mentioned   \n",
       "53690  No diminution in desire for food  ...  No such difficulty mentioned   \n",
       "53691  No diminution in desire for food  ...  No such difficulty mentioned   \n",
       "53693  No diminution in desire for food  ...  No such difficulty mentioned   \n",
       "\n",
       "                             mh015_                                   mh016_  \\\n",
       "0      No such difficulty mentioned     Mentions any enjoyment from activity   \n",
       "4      No such difficulty mentioned     Mentions any enjoyment from activity   \n",
       "8       Difficulty in concentrating     Mentions any enjoyment from activity   \n",
       "9      No such difficulty mentioned     Mentions any enjoyment from activity   \n",
       "10     No such difficulty mentioned     Mentions any enjoyment from activity   \n",
       "...                             ...                                      ...   \n",
       "53686  No such difficulty mentioned     Mentions any enjoyment from activity   \n",
       "53689  No such difficulty mentioned     Mentions any enjoyment from activity   \n",
       "53690  No such difficulty mentioned     Mentions any enjoyment from activity   \n",
       "53691  No such difficulty mentioned  Fails to mention any enjoyable activity   \n",
       "53693   Difficulty in concentrating     Mentions any enjoyment from activity   \n",
       "\n",
       "      mh017_                mh034_                mh035_  \\\n",
       "0         No  Hardly ever or never  Hardly ever or never   \n",
       "4         No  Hardly ever or never  Hardly ever or never   \n",
       "8         No  Hardly ever or never  Hardly ever or never   \n",
       "9         No  Hardly ever or never  Hardly ever or never   \n",
       "10        No  Hardly ever or never  Hardly ever or never   \n",
       "...      ...                   ...                   ...   \n",
       "53686     No      Some of the time                 Often   \n",
       "53689     No  Hardly ever or never  Hardly ever or never   \n",
       "53690     No  Hardly ever or never  Hardly ever or never   \n",
       "53691    Yes      Some of the time      Some of the time   \n",
       "53693    Yes  Hardly ever or never  Hardly ever or never   \n",
       "\n",
       "                     mh036_                mh037_ dn042_ age_ret  \n",
       "0      Hardly ever or never  Hardly ever or never      1    45.0  \n",
       "4      Hardly ever or never  Hardly ever or never      0    60.0  \n",
       "8      Hardly ever or never  Hardly ever or never      1    59.0  \n",
       "9      Hardly ever or never  Hardly ever or never      0    60.0  \n",
       "10     Hardly ever or never  Hardly ever or never      0    58.0  \n",
       "...                     ...                   ...    ...     ...  \n",
       "53686      Some of the time  Hardly ever or never      1    63.0  \n",
       "53689  Hardly ever or never  Hardly ever or never      0    60.0  \n",
       "53690  Hardly ever or never  Hardly ever or never      1    55.0  \n",
       "53691      Some of the time      Some of the time      1    57.0  \n",
       "53693      Some of the time      Some of the time      0    62.0  \n",
       "\n",
       "[22603 rows x 21 columns]"
      ]
     },
     "execution_count": 151,
     "metadata": {},
     "output_type": "execute_result"
    }
   ],
   "source": [
    "retirement"
   ]
  },
  {
   "cell_type": "code",
   "execution_count": null,
   "metadata": {},
   "outputs": [],
   "source": [
    "# Generate a random dataset with 100 features\n",
    "X, y = make_classification(n_samples=1000, n_features=100, n_informative=10, n_redundant=90, random_state=42)\n",
    "\n",
    "# Split the data into train and test sets\n",
    "X_train, X_test, y_train, y_test = train_test_split(X, y, test_size=0.2, random_state=42)\n",
    "\n",
    "# Create an XGBClassifier\n",
    "model = XGBClassifier(n_estimators=100, learning_rate=0.1, random_state=42)\n",
    "\n",
    "# Train the model\n",
    "model.fit(X_train, y_train)\n",
    "\n",
    "# Get the feature importance scores\n",
    "importance_scores = model.feature_importances_\n",
    "\n",
    "# Select the top 10 most important features\n",
    "selected_features = importance_scores.argsort()[-10:]\n",
    "\n",
    "# Create a new XGBClassifier with the selected features\n",
    "selected_model = XGBClassifier(n_estimators=100, learning_rate=0.1, random_state=42)\n",
    "\n",
    "# Train the new model using only the selected features\n",
    "selected_model.fit(X_train[:, selected_features], y_train)\n",
    "\n",
    "# Evaluate the original model\n",
    "y_pred = model.predict(X_test)\n",
    "original_accuracy = accuracy_score(y_test, y_pred)\n",
    "\n",
    "# Evaluate the model with selected features\n",
    "y_pred_selected = selected_model.predict(X_test[:, selected_features])\n",
    "selected_accuracy = accuracy_score(y_test, y_pred_selected)\n",
    "\n",
    "print(f\"Original Model Accuracy: {original_accuracy:.4f}\")\n",
    "print(f\"Selected Features Model Accuracy: {selected_accuracy:.4f}\")\n",
    "\n",
    "# Using scikit-learn's SelectFromModel for feature selection\n",
    "selector = SelectFromModel(model, prefit=True)\n",
    "X_train_selected = selector.transform(X_train)\n",
    "X_test_selected = selector.transform(X_test)\n",
    "\n",
    "# Train a new model using the selected features\n",
    "selected_model_pipeline = XGBClassifier(n_estimators=100, learning_rate=0.1, random_state=42)\n",
    "selected_model_pipeline.fit(X_train_selected, y_train)\n",
    "\n",
    "# Evaluate the model with selected features using the pipeline\n",
    "y_pred_pipeline = selected_model_pipeline.predict(X_test_selected)\n",
    "selected_accuracy_pipeline = accuracy_score(y_test, y_pred_pipeline)\n",
    "\n",
    "print(f\"Selected Features Model Accuracy (Pipeline): {selected_accuracy_pipeline:.4f}\")"
   ]
  }
 ],
 "metadata": {
  "kernelspec": {
   "display_name": "Python 3",
   "language": "python",
   "name": "python3"
  },
  "language_info": {
   "codemirror_mode": {
    "name": "ipython",
    "version": 3
   },
   "file_extension": ".py",
   "mimetype": "text/x-python",
   "name": "python",
   "nbconvert_exporter": "python",
   "pygments_lexer": "ipython3",
   "version": "3.13.3"
  },
  "orig_nbformat": 4,
  "vscode": {
   "interpreter": {
    "hash": "aee8b7b246df8f9039afb4144a1f6fd8d2ca17a180786b69acc140d282b71a49"
   }
  }
 },
 "nbformat": 4,
 "nbformat_minor": 2
}
